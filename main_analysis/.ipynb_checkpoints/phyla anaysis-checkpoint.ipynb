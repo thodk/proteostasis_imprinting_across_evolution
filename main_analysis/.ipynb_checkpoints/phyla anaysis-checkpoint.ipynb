{
 "cells": [
  {
   "cell_type": "code",
   "execution_count": 1,
   "metadata": {
    "collapsed": true
   },
   "outputs": [],
   "source": [
    "import pandas\n",
    "import numpy\n",
    "import os\n",
    "import sys\n",
    "from scipy.spatial import distance\n",
    "from scipy.cluster import hierarchy\n",
    "from sklearn.metrics import silhouette_score, homogeneity_score, silhouette_samples, adjusted_mutual_info_score\n",
    "from matplotlib import pyplot as plt"
   ]
  },
  {
   "cell_type": "code",
   "execution_count": 2,
   "metadata": {
    "collapsed": true
   },
   "outputs": [],
   "source": [
    "categories_dict = {\n",
    "    'eukaryotes':{\n",
    "            'column':'taxonomy_phylum',\n",
    "            'key':'Phylum',\n",
    "            },\n",
    "    'bacteria':{\n",
    "            'column':'taxonomy_phylum',\n",
    "            'key':'Phylum',\n",
    "            },\n",
    "    'archaea':{\n",
    "            'column':'taxonomy_class',\n",
    "            'key':'Class'\n",
    "            }\n",
    "}\n",
    "\n",
    "scenarios_dict = {\n",
    "    'rRNA':{\n",
    "        'dir':'rib_analysis/',\n",
    "        'color':'#56862e',\n",
    "        'label': 'Ribosomal Sequences'\n",
    "    },\n",
    "    'proteostasis':{\n",
    "        'dir':'proteostasis_functional_analysis/',\n",
    "        'color':'#026690',\n",
    "        'label': 'Proteostasis Machinery'\n",
    "    },\n",
    "    'hsp40':{\n",
    "        'dir':'hsp_analysis/hsp40/',\n",
    "        'color':'#a62c25',\n",
    "        'label': 'HSP40 Sequences'\n",
    "    },\n",
    "    'hsp70':{\n",
    "        'dir':'hsp_analysis/hsp70/',\n",
    "        'color': '#aa5325',\n",
    "        'label': 'HSP70 Sequences'\n",
    "    }\n",
    "}"
   ]
  },
  {
   "cell_type": "code",
   "execution_count": 3,
   "metadata": {},
   "outputs": [],
   "source": [
    "subcategories = ['archaea', 'bacteria', 'eukaryotes']\n",
    "scenarios = ['rRNA', 'proteostasis', 'hsp40', 'hsp70']\n",
    "\n",
    "results = {}\n",
    "for subcategory in subcategories:\n",
    "    organisms_df = pandas.read_csv('./files/organisms_with_tax.tsv', sep='\\t')\n",
    "    organisms_df = organisms_df.loc[organisms_df.taxonomy == subcategory, :]\n",
    "    \n",
    "    organisms = organisms_df.organism_name\n",
    "    column = categories_dict[subcategory]['column']\n",
    "    organisms_taxonomy = dict(zip(organisms_df.organism_name, organisms_df.loc[:,column]))\n",
    "\n",
    "    ref_labels = []\n",
    "    for organism in organisms:\n",
    "        tax = organisms_taxonomy[organism]\n",
    "        ref_labels.append(tax)\n",
    "    \n",
    "    length = len(list(set(ref_labels)))\n",
    "    N = int(numpy.math.ceil(1.2*length))\n",
    "    categories_dict.setdefault(subcategory, {}).update({'classes':length})\n",
    "\n",
    "    for scenario in scenarios:\n",
    "        main_dir = './'+scenarios_dict[scenario]['dir']\n",
    "        tmp_data = []\n",
    "        df = pandas.read_csv(main_dir+'final_distance_matrix.csv', index_col=0)\n",
    "        df = df.loc[organisms,organisms]\n",
    "        matrix = df.values\n",
    "        data = []\n",
    "        for n in range(N, 1, -1):\n",
    "            condensed_matrix = distance.squareform(matrix, force='to_vector')\n",
    "            Z = hierarchy.linkage(condensed_matrix, method='ward')\n",
    "            labels = list(hierarchy.fcluster(Z, criterion='maxclust',t=n))\n",
    "            #aim = round(adjusted_mutual_info_score(labels_true=ref_labels, labels_pred=labels), 2)\n",
    "            hs = round(homogeneity_score(labels_true=ref_labels, labels_pred=labels),2)\n",
    "            tmp_data.append([n,hs])\n",
    "\n",
    "        tmp_df = pandas.DataFrame(tmp_data, columns=['n_clusters', 'aim'])\n",
    "        results.setdefault(subcategory, {}).update({scenario:tmp_df})             "
   ]
  },
  {
   "cell_type": "code",
   "execution_count": null,
   "metadata": {
    "collapsed": true
   },
   "outputs": [],
   "source": []
  },
  {
   "cell_type": "code",
   "execution_count": null,
   "metadata": {
    "collapsed": true
   },
   "outputs": [],
   "source": []
  },
  {
   "cell_type": "code",
   "execution_count": 4,
   "metadata": {
    "collapsed": true
   },
   "outputs": [],
   "source": [
    "from matplotlib import pyplot as plt\n",
    "from matplotlib.gridspec import GridSpec\n",
    "from matplotlib.lines import Line2D\n",
    "from matplotlib.legend_handler import HandlerLine2D\n",
    "import matplotlib\n",
    "matplotlib.rcParams['font.sans-serif'] = ['FreeSans', ]\n",
    "matplotlib.rcParams['mathtext.fontset'] = 'custom'\n",
    "matplotlib.rcParams['axes.titlepad'] = 4\n",
    "\n",
    "\n",
    "\n",
    "\n",
    "\n",
    "class SymHandler(HandlerLine2D):\n",
    "    def create_artists(self, legend, orig_handle,xdescent, ydescent, width, \n",
    "                       height, fontsize, trans):\n",
    "        xx= self.y_align*height\n",
    "        return super(SymHandler, self).create_artists(legend, orig_handle,xdescent, \n",
    "                     xx, width, height, fontsize, trans)\n",
    "SH = SymHandler()\n",
    "SH.y_align = 0.3"
   ]
  },
  {
   "cell_type": "code",
   "execution_count": 6,
   "metadata": {},
   "outputs": [],
   "source": [
    "plt.close()\n",
    "\n",
    "fig = plt.figure(1, figsize=(4.5,8), frameon=False)\n",
    "grids = GridSpec(11, 1, hspace=0.25, wspace=0)\n",
    "step = 3\n",
    "\n",
    "for i, subcategory in enumerate(subcategories):\n",
    "    ax = fig.add_subplot(grids[i*step+i:(i+1)*step+i,0])\n",
    "    for scenario in scenarios:\n",
    "        tmp = results[subcategory][scenario]\n",
    "        ax.plot(tmp.n_clusters, tmp.aim, label=scenario, linewidth=2, color=scenarios_dict[scenario]['color'])\n",
    "    ax.axvline(x=categories_dict[subcategory]['classes'], linewidth=1, color='black')\n",
    "    ax.grid(True, linestyle='--', alpha=0.5, linewidth=0.7)\n",
    "    ax.set_ylim([0,1])\n",
    "    ax.tick_params(labelsize=8)\n",
    "    #ax.set_yticklabels(ax.get_yticklabels(), fontdict={'size':8})\n",
    "    ax.set_title(subcategory.capitalize() + ' ('+categories_dict[subcategory]['key']+'-level)', fontsize=12)\n",
    "    ax.set_xlabel('Number of Clusters', fontsize=10)\n",
    "    ax.set_ylabel('Homogeneity Score', fontsize=10)\n",
    "    \n",
    "\n",
    "patches = []\n",
    "patches_labels = []\n",
    "\n",
    "p = Line2D([0], [0], marker='o', color=scenarios_dict['rRNA']['color'], \n",
    "           markerfacecolor=scenarios_dict['rRNA']['color'],\n",
    "           markersize=15, label=scenarios_dict['rRNA']['label'])\n",
    "patches.append(p)\n",
    "patches_labels.append(scenarios_dict['rRNA']['label'])\n",
    "\n",
    "p = Line2D([0], [0], marker='o', color=scenarios_dict['proteostasis']['color'], \n",
    "           markerfacecolor=scenarios_dict['proteostasis']['color'],\n",
    "           markersize=15, label=scenarios_dict['proteostasis']['label'])\n",
    "patches.append(p)\n",
    "patches_labels.append(scenarios_dict['proteostasis']['label'])\n",
    "\n",
    "p = Line2D([0], [0], marker='o', color=scenarios_dict['hsp40']['color'], \n",
    "           markerfacecolor=scenarios_dict['hsp40']['color'],\n",
    "           markersize=15, label=scenarios_dict['hsp40']['label'])\n",
    "patches.append(p)\n",
    "patches_labels.append(scenarios_dict['hsp40']['label'])\n",
    "\n",
    "p = Line2D([0], [0], marker='o', color=scenarios_dict['hsp70']['color'], \n",
    "           markerfacecolor=scenarios_dict['hsp70']['color'],\n",
    "           markersize=15, label=scenarios_dict['hsp70']['label'])\n",
    "patches.append(p)\n",
    "patches_labels.append(scenarios_dict['hsp70']['label'])\n",
    "\n",
    "\n",
    "\n",
    "plt.legend(handles=patches, \n",
    "           labels=patches_labels, \n",
    "           bbox_to_anchor=(0.38, -0.80, 0.6, 0.5),\n",
    "           fontsize=10, ncol=2, fancybox=False, framealpha=0, \n",
    "           handlelength=1, handletextpad=1,\n",
    "           handleheight=1.5,\n",
    "           labelspacing=1.5,\n",
    "           handler_map={matplotlib.lines.Line2D: SH})\n",
    "\n",
    "main_dir = './phyla_figure/'\n",
    "if not os.path.exists(main_dir):\n",
    "    os.makedirs(main_dir)\n",
    "#results_df.to_csv(main_dir+'scores.tsv', sep='\\t')\n",
    "#plt.savefig(main_dir+'hs_plots.tiff', dpi=800, format='tiff', bbox_inches='tight', pad_inches=0.05)\n",
    "#plt.savefig(main_dir+'hs_plots.png', dpi=800, format='png', bbox_inches='tight', pad_inches=0.05)\n",
    "plt.savefig(main_dir+'hs_plots.pdf', dpi=600, format='pdf', bbox_inches='tight', pad_inches=0.05)"
   ]
  },
  {
   "cell_type": "code",
   "execution_count": null,
   "metadata": {
    "collapsed": true
   },
   "outputs": [],
   "source": [
    "\n"
   ]
  },
  {
   "cell_type": "code",
   "execution_count": null,
   "metadata": {
    "collapsed": true
   },
   "outputs": [],
   "source": []
  },
  {
   "cell_type": "code",
   "execution_count": null,
   "metadata": {
    "collapsed": true
   },
   "outputs": [],
   "source": []
  },
  {
   "cell_type": "code",
   "execution_count": null,
   "metadata": {
    "collapsed": true
   },
   "outputs": [],
   "source": []
  },
  {
   "cell_type": "code",
   "execution_count": null,
   "metadata": {
    "collapsed": true
   },
   "outputs": [],
   "source": []
  }
 ],
 "metadata": {
  "kernelspec": {
   "display_name": "Python 3 (ipykernel)",
   "language": "python",
   "name": "python3"
  },
  "language_info": {
   "codemirror_mode": {
    "name": "ipython",
    "version": 3
   },
   "file_extension": ".py",
   "mimetype": "text/x-python",
   "name": "python",
   "nbconvert_exporter": "python",
   "pygments_lexer": "ipython3",
   "version": "3.8.10"
  }
 },
 "nbformat": 4,
 "nbformat_minor": 1
}
